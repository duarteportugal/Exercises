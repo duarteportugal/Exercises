{
 "cells": [
  {
   "cell_type": "code",
   "execution_count": 1,
   "metadata": {},
   "outputs": [],
   "source": [
    "## Seccção de imports\n",
    "import importlib\n",
    "from knn import KNN\n",
    "from sklearn import datasets\n",
    "from sklearn.model_selection import train_test_split"
   ]
  },
  {
   "cell_type": "code",
   "execution_count": 2,
   "metadata": {},
   "outputs": [
    {
     "name": "stdout",
     "output_type": "stream",
     "text": [
      "dict_keys(['data', 'target', 'frame', 'target_names', 'DESCR', 'feature_names', 'filename', 'data_module'])\n"
     ]
    }
   ],
   "source": [
    "## Para teste carregar em memória o Iris dataset \n",
    "dados = datasets.load_iris()\n",
    "print(dados.keys())\n",
    "\n",
    "x = dados.data\n",
    "y = dados.target\n"
   ]
  },
  {
   "cell_type": "code",
   "execution_count": 5,
   "metadata": {},
   "outputs": [
    {
     "name": "stdout",
     "output_type": "stream",
     "text": [
      "O elemento pertence à classe 2.\n"
     ]
    }
   ],
   "source": [
    "## Secção de criação do objeto KNN\n",
    "# A classe KNN aceita dois argumentos, k e normalilzation_need. Se não forem alimentados, estes os valores default são K = 1 e normalilzation_need = False \n",
    "# Fit + Predict\n",
    "modelo_knn = KNN(2, True)\n",
    "modelo_knn.fit(x, y)\n",
    "\n",
    "x_unknown_class = [7, 3.5 , 6, 3]\n",
    "\n",
    "classe = modelo_knn.predict(x_unknown_class)\n",
    "\n",
    "print(f'O elemento pertence à classe {classe}.')\n",
    "\n",
    "\n",
    "#modelo_knn.confusion_matrix([2] ,classe)\n",
    "\n",
    "#print(modelo_knn.recall_precision([2], classe))\n"
   ]
  }
 ],
 "metadata": {
  "kernelspec": {
   "display_name": "base",
   "language": "python",
   "name": "python3"
  },
  "language_info": {
   "codemirror_mode": {
    "name": "ipython",
    "version": 3
   },
   "file_extension": ".py",
   "mimetype": "text/x-python",
   "name": "python",
   "nbconvert_exporter": "python",
   "pygments_lexer": "ipython3",
   "version": "3.9.12"
  },
  "orig_nbformat": 4,
  "vscode": {
   "interpreter": {
    "hash": "4b40f68814b93475b29075cb0adeb1712a4387a9e06914676246b503f1ae483b"
   }
  }
 },
 "nbformat": 4,
 "nbformat_minor": 2
}
